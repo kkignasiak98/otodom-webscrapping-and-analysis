{
 "cells": [
  {
   "cell_type": "markdown",
   "metadata": {
    "id": "Qja92HbQti1M"
   },
   "source": [
    "## Introduction \n",
    "\n",
    "The script is used to download information about real estate offers for sale in Poznan from Otodom.pl."
   ]
  },
  {
   "cell_type": "markdown",
   "metadata": {
    "id": "XXf102yQt4fr"
   },
   "source": [
    "## Loading neede libraries and files"
   ]
  },
  {
   "cell_type": "code",
   "execution_count": null,
   "metadata": {
    "id": "d4WuJyjGtSad"
   },
   "outputs": [],
   "source": [
    "from bs4 import BeautifulSoup\n",
    "from requests import get\n",
    "import pandas as pd\n",
    "from const import patterns\n",
    "from data_extractor import OtoDomDataExtractor as data_extractor"
   ]
  },
  {
   "cell_type": "markdown",
   "metadata": {},
   "source": [
    "## Scrapping"
   ]
  },
  {
   "cell_type": "markdown",
   "metadata": {
    "id": "PELBU9McuU87"
   },
   "source": [
    "create a link to the main page from where strapping process will start"
   ]
  },
  {
   "cell_type": "code",
   "execution_count": 3,
   "metadata": {
    "id": "UUD9sE7ktSae"
   },
   "outputs": [],
   "source": [
    "URL = \"https://www.otodom.pl/sprzedaz/mieszkanie/poznan/?search%5Bregion_id%5D=15&search%5Bsubregion_id%5D=462&search%5Bcity_id%5D=1&search%5Border%5D=created_at_first%3Adesc&page=\"\n",
    "\n",
    "page = get(URL)\n",
    "bs = BeautifulSoup(page.content, \"html.parser\")"
   ]
  },
  {
   "cell_type": "markdown",
   "metadata": {
    "id": "CEG6O7cDzJO9"
   },
   "source": [
    "The data was downloaded \"in installments\" due to the load on the Internet connection."
   ]
  },
  {
   "cell_type": "code",
   "execution_count": null,
   "metadata": {
    "id": "iIG2QQZBtSal"
   },
   "outputs": [],
   "source": [
    "main_frame = data_extractor.extract_pages(URL, 1, 20, patterns)\n",
    "main_frame.to_excel(\"otodom_data1.xlsx\")"
   ]
  },
  {
   "cell_type": "code",
   "execution_count": null,
   "metadata": {
    "id": "4U_6s6YotSal"
   },
   "outputs": [],
   "source": [
    "main_frame2 = data_extractor.extract_pages(URL, 20, 40, patterns)\n",
    "main_frame2.to_excel(\"otodom_data2.xlsx\")"
   ]
  },
  {
   "cell_type": "code",
   "execution_count": null,
   "metadata": {
    "id": "Ha4yNbACtSal"
   },
   "outputs": [],
   "source": [
    "main_frame3 = data_extractor.extract_pages(URL, 40, 60, patterns)\n",
    "main_frame3.to_excel(\"otodom_data3.xlsx\")"
   ]
  },
  {
   "cell_type": "code",
   "execution_count": null,
   "metadata": {
    "id": "AUV08ZnItSal"
   },
   "outputs": [],
   "source": [
    "main_frame4 = data_extractor.extract_pages(URL, 60, 120, patterns)\n",
    "main_frame4.to_excel(\"otodom_data4.xlsx\")"
   ]
  }
 ],
 "metadata": {
  "colab": {
   "collapsed_sections": [],
   "name": "OtodomScraping.ipynb",
   "provenance": []
  },
  "kernelspec": {
   "display_name": "Python 3 (ipykernel)",
   "language": "python",
   "name": "python3"
  },
  "metadata": {
   "interpreter": {
    "hash": "62b4da82ab8eed337ff08ff647fa9458abd70eb477e91c298b2b408b176a3f70"
   }
  },
  "orig_nbformat": 2
 },
 "nbformat": 4,
 "nbformat_minor": 0
}
